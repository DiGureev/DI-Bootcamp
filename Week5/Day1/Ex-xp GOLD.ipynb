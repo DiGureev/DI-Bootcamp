{
 "cells": [
  {
   "cell_type": "code",
   "execution_count": 6,
   "id": "d291c135",
   "metadata": {},
   "outputs": [
    {
     "name": "stdout",
     "output_type": "stream",
     "text": [
      "[[0.33366994 0.31636476 0.87521694]\n",
      " [0.89350991 0.23292505 0.00779559]\n",
      " [0.61610102 0.37918414 0.34153234]]\n"
     ]
    }
   ],
   "source": [
    "import numpy as np\n",
    "\n",
    "# Create a 3x3x3 array with random values using np.random.random().\n",
    "\n",
    "arr = np.random.random((3,3))\n",
    "print(arr)"
   ]
  },
  {
   "cell_type": "code",
   "execution_count": 9,
   "id": "222e034b",
   "metadata": {},
   "outputs": [
    {
     "name": "stdout",
     "output_type": "stream",
     "text": [
      "0.9985444508910611\n",
      "0.01118577159627332\n"
     ]
    }
   ],
   "source": [
    "# Create a 10x10 array with random values and find the minimum and maximum values.\n",
    "\n",
    "arr = np.random.random((10,10))\n",
    "print(np.max(arr))\n",
    "print(np.min(arr))"
   ]
  },
  {
   "cell_type": "code",
   "execution_count": 13,
   "id": "26382094",
   "metadata": {},
   "outputs": [
    {
     "name": "stdout",
     "output_type": "stream",
     "text": [
      "53.56666666666667\n"
     ]
    }
   ],
   "source": [
    "# Create a random vector of size 30 and find the mean* value.\n",
    "\n",
    "arr = np.array(np.random.randint(100,size = 30))\n",
    "print(np.mean(arr))"
   ]
  },
  {
   "cell_type": "code",
   "execution_count": 19,
   "id": "29bf52ef",
   "metadata": {},
   "outputs": [
    {
     "name": "stdout",
     "output_type": "stream",
     "text": [
      "[[1. 1. 1. 1. 1.]\n",
      " [1. 0. 0. 0. 1.]\n",
      " [1. 0. 0. 0. 1.]\n",
      " [1. 0. 0. 0. 1.]\n",
      " [1. 1. 1. 1. 1.]]\n"
     ]
    }
   ],
   "source": [
    "arr = np.ones((5,5))\n",
    "\n",
    "arr[1:4, 1:4] = 0\n",
    "print(arr)"
   ]
  },
  {
   "cell_type": "code",
   "execution_count": 28,
   "id": "cefce4d1",
   "metadata": {},
   "outputs": [
    {
     "name": "stdout",
     "output_type": "stream",
     "text": [
      "[[0. 0. 0. 0. 0.]\n",
      " [0. 1. 1. 1. 0.]\n",
      " [0. 1. 1. 1. 0.]\n",
      " [0. 1. 1. 1. 0.]\n",
      " [0. 0. 0. 0. 0.]]\n"
     ]
    }
   ],
   "source": [
    "arr = np.ones((3,3))\n",
    "arr2 = np.pad(arr, (1, 1), 'constant', constant_values=(0))\n",
    "print(arr2)"
   ]
  },
  {
   "cell_type": "code",
   "execution_count": 38,
   "id": "29cf8a9e",
   "metadata": {},
   "outputs": [
    {
     "name": "stdout",
     "output_type": "stream",
     "text": [
      "[0 1 2 3 4 5 6 7 8 9]\n",
      "[ 0 -1  2 -1  4 -1  6 -1  8 -1]\n"
     ]
    }
   ],
   "source": [
    "# Replace all odd numbers in an array with -1 without changing the original array.\n",
    "\n",
    "arr = np.arange(10)\n",
    "print(arr)\n",
    "\n",
    "for index, num in enumerate(arr):\n",
    "    if num % 2 != 0:\n",
    "        arr[index] = -1\n",
    "    \n",
    "print(arr)"
   ]
  },
  {
   "cell_type": "code",
   "execution_count": 48,
   "id": "76770337",
   "metadata": {},
   "outputs": [
    {
     "name": "stdout",
     "output_type": "stream",
     "text": [
      "[[1 0 0 0 0]\n",
      " [0 2 0 0 0]\n",
      " [0 0 3 0 0]\n",
      " [0 0 0 4 0]\n",
      " [0 0 0 0 7]]\n"
     ]
    }
   ],
   "source": [
    "# Create a 5x5 matrix with values 1,2,3,4,7 on the diagonal* using np.diag.\n",
    "\n",
    "arr = np.diag([1, 2, 3, 4, 7])\n",
    "print(arr)\n",
    "\n"
   ]
  },
  {
   "cell_type": "code",
   "execution_count": 60,
   "id": "66945088",
   "metadata": {},
   "outputs": [
    {
     "name": "stdout",
     "output_type": "stream",
     "text": [
      "[[0. 1. 0. 1. 0. 1. 0. 1.]\n",
      " [1. 0. 1. 0. 1. 0. 1. 0.]\n",
      " [0. 1. 0. 1. 0. 1. 0. 1.]\n",
      " [1. 0. 1. 0. 1. 0. 1. 0.]\n",
      " [0. 1. 0. 1. 0. 1. 0. 1.]\n",
      " [1. 0. 1. 0. 1. 0. 1. 0.]\n",
      " [0. 1. 0. 1. 0. 1. 0. 1.]\n",
      " [1. 0. 1. 0. 1. 0. 1. 0.]]\n"
     ]
    }
   ],
   "source": [
    "# Create a 8x8 matrix and fill it with a checkerboard pattern using slicing*.\n",
    "\n",
    "arr = np.zeros((8,8))\n",
    "arr[1::2,::2] = 1\n",
    "arr[::2, 1::2] = 1\n",
    "print(arr)"
   ]
  },
  {
   "cell_type": "code",
   "execution_count": 61,
   "id": "43c2efed",
   "metadata": {},
   "outputs": [
    {
     "name": "stdout",
     "output_type": "stream",
     "text": [
      "(array([1], dtype=int64), array([5], dtype=int64), array([3], dtype=int64))\n"
     ]
    }
   ],
   "source": [
    "# Given a (6,7,8) shape array, what is the index (x,y,z) of the 100th element? Use np.unravel_index.\n",
    "\n",
    "print(np.unravel_index([99], (6,7,8)))"
   ]
  },
  {
   "cell_type": "code",
   "execution_count": 63,
   "id": "25e9336b",
   "metadata": {},
   "outputs": [
    {
     "name": "stdout",
     "output_type": "stream",
     "text": [
      "[[0.5967873  0.66683384 0.26429726 0.67992847 0.5231299 ]\n",
      " [0.05209547 0.38170367 0.00412232 0.32146975 0.6086236 ]\n",
      " [0.60368825 0.2034344  0.28934615 0.96556022 0.16905225]\n",
      " [0.09613549 0.85029992 0.28448025 0.78010965 0.1519297 ]\n",
      " [0.17407305 0.88804917 0.42033198 0.60187811 0.1357344 ]]\n",
      "[[0.61643605 0.68929207 0.27061023 0.70291191 0.53982434]\n",
      " [0.04989729 0.39272568 0.         0.33007585 0.62874709]\n",
      " [0.62361378 0.20730624 0.29666381 1.         0.17154506]\n",
      " [0.09570371 0.88011675 0.29160274 0.80711124 0.15373576]\n",
      " [0.17676724 0.91938008 0.43290332 0.62173104 0.13689088]]\n"
     ]
    }
   ],
   "source": [
    "# Normalize* a 5x5 random matrix. The normalization formula is (matrix - matrix.min()) / (matrix.max() - matrix.min()).\n",
    "\n",
    "matrix = np.random.random((5,5))\n",
    "arr = (matrix - matrix.min()) / (matrix.max() - matrix.min())\n",
    "print(matrix)\n",
    "print(arr)"
   ]
  },
  {
   "cell_type": "code",
   "execution_count": 76,
   "id": "8ff8eea8",
   "metadata": {},
   "outputs": [
    {
     "name": "stdout",
     "output_type": "stream",
     "text": [
      "[['a' 'b' 'c']\n",
      " ['a' 'b' 'c']]\n"
     ]
    }
   ],
   "source": [
    "# Given a two-dimensional array, extract unique rows. You can use np.unique with the axis argument.\n",
    "\n",
    "arr = np.array([['a', 'b', 'b', 'c', 'a'], ['a', 'b', 'b', 'c', 'a']])\n",
    "\n",
    "a = np.unique(arr, axis = 1)\n",
    "print(a)"
   ]
  },
  {
   "cell_type": "code",
   "execution_count": 77,
   "id": "df4f6279",
   "metadata": {},
   "outputs": [
    {
     "name": "stdout",
     "output_type": "stream",
     "text": [
      "[(0.68310893, 0.43430922, 118,  27, 239)\n",
      " (0.15749253, 0.96825376,  40, 138, 110)\n",
      " (0.50373752, 0.69418396, 245, 132, 203)]\n"
     ]
    }
   ],
   "source": [
    "# Create a structured array* representing a position (x,y) and a color (r,g,b). Use np.dtype to create a custom dtype for this task.\n",
    "\n",
    "arr = np.zeros((3,), dtype=[('x', 'float'), ('y', 'float'),\n",
    "       ('r', 'int'), ('g', 'int'), ('b','int')])\n",
    "       \n",
    "arr['x'] = np.random.rand(3)\n",
    "arr['y'] = np.random.rand(3)\n",
    "arr['r'] = np.random.randint(0, 255, 3)\n",
    "arr['g'] = np.random.randint(0, 255, 3)\n",
    "arr['b'] = np.random.randint(0, 255, 3)\n",
    "\n",
    "print(arr)"
   ]
  },
  {
   "cell_type": "code",
   "execution_count": null,
   "id": "09e04617",
   "metadata": {},
   "outputs": [],
   "source": [
    "# How to accumulate elements of a vector (X) to an array (F) based on an index list (I)? Use np.add.at. This method performs unbuffered* in place operation on operand ‘a’ for elements specified by ‘indices’.\n",
    "\n",
    "# Considering a four dimensions array, how to get sum over the last two axis at once? Use np.sum with axis=(-2,-1).\n",
    "\n",
    "# Example output: The sum of the elements over the last two axes.\n",
    "\n",
    "# How to get the diagonal of a dot product? Use np.diag and np.dot.\n",
    "\n",
    "# Example output: This command calculates the dot product of two arrays and then extracts the diagonal elements.\n",
    "\n",
    "\n",
    "# Consider the vector [1, 2, 3, 4, 5], how to build a new vector with 3 consecutive zeros interleaved between each value? This involves use of np.zeros and array indexing.\n",
    "\n",
    "# Example output:\n",
    "\n",
    "# [1, 0, 0, 0, 2, 0, 0, 0, 3, 0, 0, 0, 4, 0, 0, 0, 5]\n",
    "\n",
    "# How to compute averages using a sliding window over an array? This involves some manipulation of array indexing and arithmetic operations. Essentially, you would compute a cumulative sum* and then subtract the sum at the beginning of the window from each element.\n",
    "\n",
    "\n",
    "# Given an integer n and a 2D array X, select from X the rows which can be interpreted as draws from a multinomial distribution* with n degrees, i.e., the rows which only contain integers and which sum to n. This involves understanding of multinomial distribution.\n",
    "\n",
    "\n",
    "# Compute bootstrapped 95% confidence intervals* for the mean of a 1D array X (i.e., resample the elements of an array with replacement N times, compute the mean of each sample, and then compute percentiles over the means). Use np.percentile.\n",
    "\n",
    "# Example output: Two numbers representing the lower and upper bound of the confidence interval."
   ]
  }
 ],
 "metadata": {
  "kernelspec": {
   "display_name": "Python 3 (ipykernel)",
   "language": "python",
   "name": "python3"
  },
  "language_info": {
   "codemirror_mode": {
    "name": "ipython",
    "version": 3
   },
   "file_extension": ".py",
   "mimetype": "text/x-python",
   "name": "python",
   "nbconvert_exporter": "python",
   "pygments_lexer": "ipython3",
   "version": "3.11.5"
  }
 },
 "nbformat": 4,
 "nbformat_minor": 5
}
