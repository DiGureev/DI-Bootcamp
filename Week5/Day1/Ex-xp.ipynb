{
 "cells": [
  {
   "cell_type": "code",
   "execution_count": 1,
   "id": "49da133d",
   "metadata": {},
   "outputs": [
    {
     "name": "stdout",
     "output_type": "stream",
     "text": [
      "[0. 0. 0. 0. 0. 0. 0. 0. 0. 0.]\n"
     ]
    }
   ],
   "source": [
    "import numpy as np\n",
    "\n",
    "# Create a vector* of zeros with size 10 using np.zeros().\n",
    "\n",
    "vector = np.zeros(10)\n",
    "# print(vector)"
   ]
  },
  {
   "cell_type": "code",
   "execution_count": 4,
   "id": "7cf25e23",
   "metadata": {},
   "outputs": [],
   "source": [
    "# Compute the memory size* of any array. Note: You can do this by multiplying the length of the array by the size of one array element, which you can find using the .itemsize attribute.\n",
    "\n",
    "vector_size = vector.itemsize * len(vector)"
   ]
  },
  {
   "cell_type": "code",
   "execution_count": 5,
   "id": "ce05484f",
   "metadata": {},
   "outputs": [
    {
     "name": "stdout",
     "output_type": "stream",
     "text": [
      "80\n"
     ]
    }
   ],
   "source": [
    "# print(vector_size)"
   ]
  },
  {
   "cell_type": "code",
   "execution_count": 8,
   "id": "289223a8",
   "metadata": {},
   "outputs": [
    {
     "name": "stdout",
     "output_type": "stream",
     "text": [
      "Help on ufunc:\n",
      "\n",
      "add = <ufunc 'add'>\n",
      "    add(x1, x2, /, out=None, *, where=True, casting='same_kind', order='K', dtype=None, subok=True[, signature, extobj])\n",
      "    \n",
      "    Add arguments element-wise.\n",
      "    \n",
      "    Parameters\n",
      "    ----------\n",
      "    x1, x2 : array_like\n",
      "        The arrays to be added.\n",
      "        If ``x1.shape != x2.shape``, they must be broadcastable to a common\n",
      "        shape (which becomes the shape of the output).\n",
      "    out : ndarray, None, or tuple of ndarray and None, optional\n",
      "        A location into which the result is stored. If provided, it must have\n",
      "        a shape that the inputs broadcast to. If not provided or None,\n",
      "        a freshly-allocated array is returned. A tuple (possible only as a\n",
      "        keyword argument) must have length equal to the number of outputs.\n",
      "    where : array_like, optional\n",
      "        This condition is broadcast over the input. At locations where the\n",
      "        condition is True, the `out` array will be set to the ufunc result.\n",
      "        Elsewhere, the `out` array will retain its original value.\n",
      "        Note that if an uninitialized `out` array is created via the default\n",
      "        ``out=None``, locations within it where the condition is False will\n",
      "        remain uninitialized.\n",
      "    **kwargs\n",
      "        For other keyword-only arguments, see the\n",
      "        :ref:`ufunc docs <ufuncs.kwargs>`.\n",
      "    \n",
      "    Returns\n",
      "    -------\n",
      "    add : ndarray or scalar\n",
      "        The sum of `x1` and `x2`, element-wise.\n",
      "        This is a scalar if both `x1` and `x2` are scalars.\n",
      "    \n",
      "    Notes\n",
      "    -----\n",
      "    Equivalent to `x1` + `x2` in terms of array broadcasting.\n",
      "    \n",
      "    Examples\n",
      "    --------\n",
      "    >>> np.add(1.0, 4.0)\n",
      "    5.0\n",
      "    >>> x1 = np.arange(9.0).reshape((3, 3))\n",
      "    >>> x2 = np.arange(3.0)\n",
      "    >>> np.add(x1, x2)\n",
      "    array([[  0.,   2.,   4.],\n",
      "           [  3.,   5.,   7.],\n",
      "           [  6.,   8.,  10.]])\n",
      "    \n",
      "    The ``+`` operator can be used as a shorthand for ``np.add`` on ndarrays.\n",
      "    \n",
      "    >>> x1 = np.arange(9.0).reshape((3, 3))\n",
      "    >>> x2 = np.arange(3.0)\n",
      "    >>> x1 + x2\n",
      "    array([[ 0.,  2.,  4.],\n",
      "           [ 3.,  5.,  7.],\n",
      "           [ 6.,  8., 10.]])\n",
      "\n"
     ]
    }
   ],
   "source": [
    "# Retrieve the documentation of the numpy add function from the command line.\n",
    "\n",
    "help(np.add)"
   ]
  },
  {
   "cell_type": "code",
   "execution_count": 10,
   "id": "d2f21d6e",
   "metadata": {},
   "outputs": [
    {
     "name": "stdout",
     "output_type": "stream",
     "text": [
      "[49 48 47 46 45 44 43 42 41 40 39 38 37 36 35 34 33 32 31 30 29 28 27 26\n",
      " 25 24 23 22 21 20 19 18 17 16 15 14 13 12 11 10]\n"
     ]
    }
   ],
   "source": [
    "# Create a vector with values ranging from 10 to 49 using np.arange()\n",
    "\n",
    "array = np.arange(10, 50)\n",
    "\n",
    "# Reverse a vector so the first element becomes last (Hint: Use slicing).\n",
    "\n",
    "array_rev = array[::-1]"
   ]
  },
  {
   "cell_type": "code",
   "execution_count": 11,
   "id": "17fde725",
   "metadata": {},
   "outputs": [
    {
     "name": "stdout",
     "output_type": "stream",
     "text": [
      "[[0 1 2]\n",
      " [3 4 5]\n",
      " [6 7 8]]\n"
     ]
    }
   ],
   "source": [
    "# Create a 3x3 matrix* with values ranging from 0 to 8 using np.reshape().\n",
    "\n",
    "array = np.arange(9)\n",
    "matrix = np.reshape(array, (3,3))\n",
    "# print(matrix)"
   ]
  },
  {
   "cell_type": "code",
   "execution_count": 12,
   "id": "34bb52d9",
   "metadata": {},
   "outputs": [
    {
     "name": "stdout",
     "output_type": "stream",
     "text": [
      "(array([0, 1, 4], dtype=int64),)\n"
     ]
    }
   ],
   "source": [
    "# Find indices of non-zero elements from [1,2,0,0,4,0] using np.nonzero().\n",
    "\n",
    "array = [1,2,0,0,4,0]\n",
    "print(np.nonzero(array))"
   ]
  },
  {
   "cell_type": "code",
   "execution_count": 13,
   "id": "22ebc02a",
   "metadata": {},
   "outputs": [
    {
     "name": "stdout",
     "output_type": "stream",
     "text": [
      "[[1. 0. 0.]\n",
      " [0. 1. 0.]\n",
      " [0. 0. 1.]]\n"
     ]
    }
   ],
   "source": [
    "# Create a 3x3 identity matrix* using np.eye().\n",
    "\n",
    "array = np.eye(3)\n",
    "print(array)"
   ]
  },
  {
   "cell_type": "code",
   "execution_count": 22,
   "id": "5b025c9a",
   "metadata": {},
   "outputs": [
    {
     "name": "stdout",
     "output_type": "stream",
     "text": [
      "[[0. 1. 2. 3. 4.]\n",
      " [0. 1. 2. 3. 4.]\n",
      " [0. 1. 2. 3. 4.]\n",
      " [0. 1. 2. 3. 4.]\n",
      " [0. 1. 2. 3. 4.]]\n"
     ]
    }
   ],
   "source": [
    "# Create a 5x5 matrix with row values ranging from 0 to 4. The output should be a matrix where each row is [0, 1, 2, 3, 4].\n",
    "matrix = np.zeros((5,5))\n",
    "matrix += np.arange(5)\n",
    "print(matrix)"
   ]
  },
  {
   "cell_type": "code",
   "execution_count": 29,
   "id": "e129b07e",
   "metadata": {},
   "outputs": [
    {
     "name": "stdout",
     "output_type": "stream",
     "text": [
      "[0.09090909 0.18181818 0.27272727 0.36363636 0.45454545 0.54545455\n",
      " 0.63636364 0.72727273 0.81818182 0.90909091]\n"
     ]
    }
   ],
   "source": [
    "# Create a vector of size 10 with values ranging from 0 to 1, both excluded. You can use np.linspace.\n",
    "\n",
    "arrow = np.linspace(0, 1, 12)[1:-1]\n",
    "print(arrow)"
   ]
  },
  {
   "cell_type": "code",
   "execution_count": 33,
   "id": "b69960bf",
   "metadata": {},
   "outputs": [
    {
     "name": "stdout",
     "output_type": "stream",
     "text": [
      "[0.03210111 0.04738837 0.18936435 0.22793855 0.25483591 0.25767998\n",
      " 0.34287937 0.58276539 0.68552544 0.71777581]\n"
     ]
    }
   ],
   "source": [
    "# Create a random vector of size 10 and sort it.\n",
    "\n",
    "array = np.random.rand(10)\n",
    "print(np.sort(array))\n",
    "\n"
   ]
  },
  {
   "cell_type": "code",
   "execution_count": 41,
   "id": "775bd03a",
   "metadata": {},
   "outputs": [
    {
     "name": "stdout",
     "output_type": "stream",
     "text": [
      "-128 -2147483648 -9223372036854775808\n",
      "127 2147483647 9223372036854775807\n",
      "-3.4028235e+38 -1.7976931348623157e+308\n",
      "3.4028235e+38 1.7976931348623157e+308\n"
     ]
    }
   ],
   "source": [
    "# Print the minimum and maximum representable value for each numpy scalar type* (int8, int32, int64, float32, float64). Use np.iinfo and np.finfo.\n",
    "\n",
    "a = np.iinfo(np.int8)\n",
    "b = np.iinfo(np.int32)\n",
    "c = np.iinfo(np.int64)\n",
    "print(a.min, b.min, c.min)\n",
    "print(a.max, b.max, c.max)\n",
    "\n",
    "a = np.finfo(np.float32)\n",
    "b = np.finfo(np.float64)\n",
    "print(a.min, b.min)\n",
    "print(a.max, b.max)"
   ]
  },
  {
   "cell_type": "code",
   "execution_count": 50,
   "id": "afe90faa",
   "metadata": {},
   "outputs": [
    {
     "name": "stdout",
     "output_type": "stream",
     "text": [
      "float32\n",
      "int32\n"
     ]
    }
   ],
   "source": [
    "# How to convert a float (32 bits) array into an integer (32 bits) in place? Use np.ndarray.astype.\n",
    "\n",
    "a = np.array([1.0], dtype=\"float32\")\n",
    "b = a.astype('int')\n",
    "print(a.dtype)\n",
    "print(b.dtype)\n"
   ]
  },
  {
   "cell_type": "code",
   "execution_count": 54,
   "id": "b451a40c",
   "metadata": {},
   "outputs": [
    {
     "name": "stdout",
     "output_type": "stream",
     "text": [
      "[[1.]\n",
      " [4.]\n",
      " [7.]]\n"
     ]
    }
   ],
   "source": [
    "# Subtract the mean* of each row of a matrix. Use np.mean with axis=1.\n",
    "\n",
    "array = np.arange(9)\n",
    "matrix = np.reshape(array, (3,3))\n",
    "\n",
    "matrix_mean = matrix.mean(axis=1, keepdims=True)\n",
    "print(matrix_mean)"
   ]
  },
  {
   "cell_type": "code",
   "execution_count": 56,
   "id": "90003363",
   "metadata": {},
   "outputs": [
    {
     "name": "stdout",
     "output_type": "stream",
     "text": [
      "[[6 1 5]\n",
      " [4 2 3]\n",
      " [7 9 8]]\n"
     ]
    }
   ],
   "source": [
    "# How to sort an array by the nth column? Use np.argsort.\n",
    "\n",
    "matrix = np.array([[4, 2, 3], [6, 1, 5], [7, 9, 8]])\n",
    "sorted_matrix = matrix[matrix[:,1].argsort()]\n",
    "print(sorted_matrix)"
   ]
  },
  {
   "cell_type": "code",
   "execution_count": 60,
   "id": "ba62a0a6",
   "metadata": {},
   "outputs": [
    {
     "name": "stdout",
     "output_type": "stream",
     "text": [
      "[[3 4 5]\n",
      " [0 1 2]\n",
      " [6 7 8]]\n"
     ]
    }
   ],
   "source": [
    "# How to swap two rows of an array? You can do this using array indexing.\n",
    "\n",
    "matrix = np.array([[0, 1, 2], [3, 4, 5], [6, 7, 8]])\n",
    "matrix[[0, 1]] = matrix[[1, 0]]\n",
    "print(matrix)"
   ]
  },
  {
   "cell_type": "code",
   "execution_count": 62,
   "id": "46a0db6d",
   "metadata": {},
   "outputs": [
    {
     "name": "stdout",
     "output_type": "stream",
     "text": [
      "[0 0 0 1 1 1 2 2 3 3]\n"
     ]
    }
   ],
   "source": [
    "# Given an array C that is a bincount*, how to produce an array A such that np.bincount(A) == C? Use np.repeat.\n",
    "\n",
    "a = np.array([2, 2, 1, 1, 1, 0, 0, 0, 3, 3])\n",
    "c = np.bincount(a)\n",
    "recreated_array = np.repeat(np.arange(len(c)), c)\n",
    "print(recreated_array)"
   ]
  },
  {
   "cell_type": "code",
   "execution_count": null,
   "id": "c75c2695",
   "metadata": {},
   "outputs": [],
   "source": []
  },
  {
   "cell_type": "code",
   "execution_count": null,
   "id": "f6815350",
   "metadata": {},
   "outputs": [],
   "source": []
  }
 ],
 "metadata": {
  "kernelspec": {
   "display_name": "Python 3 (ipykernel)",
   "language": "python",
   "name": "python3"
  },
  "language_info": {
   "codemirror_mode": {
    "name": "ipython",
    "version": 3
   },
   "file_extension": ".py",
   "mimetype": "text/x-python",
   "name": "python",
   "nbconvert_exporter": "python",
   "pygments_lexer": "ipython3",
   "version": "3.11.5"
  }
 },
 "nbformat": 4,
 "nbformat_minor": 5
}
