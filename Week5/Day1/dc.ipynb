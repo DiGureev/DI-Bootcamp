{
 "cells": [
  {
   "cell_type": "code",
   "execution_count": 2,
   "id": "17a17303",
   "metadata": {},
   "outputs": [
    {
     "name": "stdout",
     "output_type": "stream",
     "text": [
      "[[93 11 59 86 11]\n",
      " [ 3 59 92 57 73]\n",
      " [12  7  4 94 71]\n",
      " [62 33 91 87 54]\n",
      " [ 6 83 33 12 86]]\n"
     ]
    }
   ],
   "source": [
    "import numpy as np\n",
    "\n",
    "data = np.array(np.random.randint(1, 100, size=25)).reshape(5,5)\n",
    "print(data)"
   ]
  },
  {
   "cell_type": "code",
   "execution_count": 3,
   "id": "15ff2a81",
   "metadata": {},
   "outputs": [
    {
     "name": "stdout",
     "output_type": "stream",
     "text": [
      "[[93 11 59 86 11]\n",
      " [62 33 91 87 54]\n",
      " [12  7  4 94 71]\n",
      " [ 3 59 92 57 73]\n",
      " [ 6 83 33 12 86]]\n"
     ]
    }
   ],
   "source": [
    "# Matrix manipulation - Swap the second and fourth rows of the data matrix.\n",
    "\n",
    "data[[1,3]] = data[[3,1]]\n",
    "print(data)"
   ]
  },
  {
   "cell_type": "code",
   "execution_count": 4,
   "id": "4dfd8883",
   "metadata": {},
   "outputs": [
    {
     "name": "stdout",
     "output_type": "stream",
     "text": [
      "[[0.98901099 0.08791209 0.61538462 0.91208791 0.08791209]\n",
      " [0.64835165 0.32967033 0.96703297 0.92307692 0.56043956]\n",
      " [0.0989011  0.04395604 0.01098901 1.         0.74725275]\n",
      " [0.         0.61538462 0.97802198 0.59340659 0.76923077]\n",
      " [0.03296703 0.87912088 0.32967033 0.0989011  0.91208791]]\n"
     ]
    }
   ],
   "source": [
    "normalized_data = (data - np.min(data)) / (np.max(data) - np.min(data))\n",
    "print(normalized_data)"
   ]
  },
  {
   "cell_type": "code",
   "execution_count": 5,
   "id": "10f7396e",
   "metadata": {},
   "outputs": [
    {
     "name": "stdout",
     "output_type": "stream",
     "text": [
      "[[ 1.2456495  -1.19563298  0.23341042  1.03724733 -1.19563298]\n",
      " [ 0.32272563 -0.54065475  1.18610602  1.06701907  0.08455173]\n",
      " [-1.16586124 -1.31471993 -1.40403514  1.27542123  0.59067127]\n",
      " [-1.43380688  0.23341042  1.21587776  0.17386695  0.65021475]\n",
      " [-1.34449166  0.94793212 -0.54065475 -1.16586124  1.03724733]]\n"
     ]
    }
   ],
   "source": [
    "z_score_data = (data - np.mean(data)) / np.std(data)\n",
    "print(z_score_data)"
   ]
  },
  {
   "cell_type": "code",
   "execution_count": 7,
   "id": "1abaf4f9",
   "metadata": {},
   "outputs": [
    {
     "name": "stdout",
     "output_type": "stream",
     "text": [
      "[93 11 59 86 11 62 33 91 87 54 12  7  4 94 71  3 59 92 57 73  6 83 33 12\n",
      " 86]\n"
     ]
    }
   ],
   "source": [
    "# Array splitting - Reshape the data matrix into a vector (Hint: use np.ravel) and split this array into five equal-sized sub-arrays.\n",
    "\n",
    "array = np.ravel(data)\n",
    "print(array)"
   ]
  },
  {
   "cell_type": "code",
   "execution_count": 9,
   "id": "9181b1dc",
   "metadata": {},
   "outputs": [
    {
     "name": "stdout",
     "output_type": "stream",
     "text": [
      "[[93 11 59 86 11]\n",
      " [62 33 91 87 54]\n",
      " [12  7  4 94 71]\n",
      " [ 3 59 92 57 73]\n",
      " [ 6 83 33 12 86]]\n"
     ]
    }
   ],
   "source": [
    "matrix = np.reshape(array, (5,5))\n",
    "print(matrix)"
   ]
  },
  {
   "cell_type": "code",
   "execution_count": 12,
   "id": "cdd6876c",
   "metadata": {},
   "outputs": [
    {
     "name": "stdout",
     "output_type": "stream",
     "text": [
      "70\n"
     ]
    }
   ],
   "source": [
    "# Dot product - Create two vectors of size 5 with any values. Compute the dot product of the two vectors*.\n",
    "\n",
    "a = np.array([1,2,3,4])\n",
    "b = np.array([5,6,7,8])\n",
    "\n",
    "print(np.dot(a,b))"
   ]
  },
  {
   "cell_type": "code",
   "execution_count": 17,
   "id": "ec1e7f42",
   "metadata": {},
   "outputs": [
    {
     "name": "stdout",
     "output_type": "stream",
     "text": [
      "[[ 550  713  876]\n",
      " [ 831 1017 1203]\n",
      " [  68   91  114]]\n"
     ]
    }
   ],
   "source": [
    "# Matrix multiplication - Create another 3x3 matrix with any values (let’s call it data2). Perform matrix multiplication (dot product of data (first 3x3 part) and data2).\n",
    "\n",
    "data2 = np.array([[1,2,3], [4,5,6], [7,8,9]])\n",
    "print(np.dot(data[:3, :3], data2))"
   ]
  },
  {
   "cell_type": "code",
   "execution_count": 21,
   "id": "bcb2b036",
   "metadata": {},
   "outputs": [
    {
     "name": "stdout",
     "output_type": "stream",
     "text": [
      "[[0.5 0.  0. ]\n",
      " [0.  0.5 0. ]\n",
      " [0.  0.  0.5]]\n"
     ]
    }
   ],
   "source": [
    "# Inverse of a matrix - Create a 3x3 identity matrix*, multiply it with 2 and compute its inverse.\n",
    "\n",
    "a = np.eye(3)\n",
    "b = a*2\n",
    "c = np.linalg.inv(b)\n",
    "print(c)\n"
   ]
  },
  {
   "cell_type": "code",
   "execution_count": 22,
   "id": "92772f96",
   "metadata": {},
   "outputs": [
    {
     "name": "stdout",
     "output_type": "stream",
     "text": [
      "(array([113.65371953,  27.63119248, -11.28491201]), array([[ 0.71546464,  0.2835184 , -0.22329601],\n",
      "       [ 0.68787732, -0.94910557, -0.80794025],\n",
      "       [ 0.12220942, -0.13717116,  0.54531775]]))\n"
     ]
    }
   ],
   "source": [
    "# Eigenvalues and eigenvectors - For the first 3x3 part of the data matrix, compute the eigenvalues and eigenvectors*.\n",
    "\n",
    "matrix = data[:3, :3]\n",
    "print(np.linalg.eig(matrix))"
   ]
  },
  {
   "cell_type": "code",
   "execution_count": null,
   "id": "939ba1af",
   "metadata": {},
   "outputs": [],
   "source": [
    "# I didn't get these tasks:\n",
    "\n",
    "# Find missing values - Replace random 5 elements in the data matrix with np.nan. Find the indices of the missing values.\n",
    "# Replace missing values - Replace the missing values in the data matrix with the mean of the matrix (ignoring the missing values while computing the mean)."
   ]
  }
 ],
 "metadata": {
  "kernelspec": {
   "display_name": "Python 3 (ipykernel)",
   "language": "python",
   "name": "python3"
  },
  "language_info": {
   "codemirror_mode": {
    "name": "ipython",
    "version": 3
   },
   "file_extension": ".py",
   "mimetype": "text/x-python",
   "name": "python",
   "nbconvert_exporter": "python",
   "pygments_lexer": "ipython3",
   "version": "3.11.5"
  }
 },
 "nbformat": 4,
 "nbformat_minor": 5
}
